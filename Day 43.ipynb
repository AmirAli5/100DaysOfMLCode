{
 "cells": [
  {
   "cell_type": "markdown",
   "metadata": {},
   "source": [
    "## Fraud Detection Using Self Organization Map"
   ]
  },
  {
   "cell_type": "markdown",
   "metadata": {},
   "source": [
    "#### Part 1: Data Preprocessing"
   ]
  },
  {
   "cell_type": "code",
   "execution_count": 1,
   "metadata": {},
   "outputs": [],
   "source": [
    "# import the Libraries\n",
    "import numpy as np\n",
    "import pandas as pd\n",
    "import matplotlib.pyplot as plt"
   ]
  },
  {
   "cell_type": "code",
   "execution_count": 2,
   "metadata": {},
   "outputs": [],
   "source": [
    "# import the dataset\n",
    "dataset = pd.read_csv('dataset\\Credit_Card_applications.csv')\n",
    "X = dataset.iloc [: ,:-1].values    # independent variables\n",
    "y = dataset.iloc [: , -1].values    # dependent variables"
   ]
  },
  {
   "cell_type": "code",
   "execution_count": 3,
   "metadata": {},
   "outputs": [],
   "source": [
    "# feature Scaling\n",
    "from sklearn.preprocessing import MinMaxScaler\n",
    "sc = MinMaxScaler(feature_range = (0,1))\n",
    "X = sc.fit_transform(X)"
   ]
  },
  {
   "cell_type": "markdown",
   "metadata": {},
   "source": [
    "#### Part 2: Building The SOM Model"
   ]
  },
  {
   "cell_type": "code",
   "execution_count": 4,
   "metadata": {},
   "outputs": [],
   "source": [
    "# import the SOM model\n",
    "from minisom import MiniSom"
   ]
  },
  {
   "cell_type": "code",
   "execution_count": 5,
   "metadata": {},
   "outputs": [],
   "source": [
    "# init the model\n",
    "som = MiniSom( x = 10, y = 10, input_len = 15, sigma = 1.0, learning_rate = 0.5)"
   ]
  },
  {
   "cell_type": "code",
   "execution_count": 6,
   "metadata": {},
   "outputs": [],
   "source": [
    "# init the weight\n",
    "som.random_weights_init(X)"
   ]
  },
  {
   "cell_type": "code",
   "execution_count": 7,
   "metadata": {},
   "outputs": [],
   "source": [
    "# traing the model\n",
    "som.train_random(data = X, num_iteration = 100)"
   ]
  },
  {
   "cell_type": "markdown",
   "metadata": {},
   "source": [
    "#### Part 3: Visualizing the result"
   ]
  },
  {
   "cell_type": "code",
   "execution_count": 8,
   "metadata": {},
   "outputs": [
    {
     "data": {
      "image/png": "[encoded data removed]",
      "text/plain": [
       "<Figure size 432x288 with 2 Axes>"
      ]
     },
     "metadata": {},
     "output_type": "display_data"
    }
   ],
   "source": [
    "# making a self organization map\n",
    "from pylab import bone, pcolor, colorbar, plot, show\n",
    "bone()\n",
    "pcolor(som.distance_map().T)\n",
    "colorbar()\n",
    "markers = ['o' , 's']\n",
    "colors = ['r', 'g']\n",
    "for i, x in enumerate(X):\n",
    "    w = som.winner(x)\n",
    "    plot(w[0] + 0.5,\n",
    "         w[1] + 0.5,\n",
    "         markers[y[i]],\n",
    "         markeredgecolor = colors[y[i]],\n",
    "         markerfacecolor = 'None',\n",
    "         markersize = 10,\n",
    "         markeredgewidth = 2)\n",
    "show()"
   ]
  },
  {
   "cell_type": "markdown",
   "metadata": {},
   "source": [
    "#### Part 4: Cathch the Potential Fraud"
   ]
  },
  {
   "cell_type": "code",
   "execution_count": 11,
   "metadata": {},
   "outputs": [],
   "source": [
    "# mapping the winning node\n",
    "mappings = som.win_map(X)"
   ]
  },
  {
   "cell_type": "code",
   "execution_count": 13,
   "metadata": {},
   "outputs": [],
   "source": [
    "#catch the cheater\n",
    "frauds = np.concatenate((mappings[(7,8)], mappings[(3,1)], mappings[(5,1)] ) , axis=0)"
   ]
  },
  {
   "cell_type": "code",
   "execution_count": 14,
   "metadata": {},
   "outputs": [],
   "source": [
    "# rescale the value using inverse function\n",
    "frauds = sc.inverse_transform(frauds)"
   ]
  },
  {
   "cell_type": "code",
   "execution_count": 15,
   "metadata": {},
   "outputs": [
    {
     "data": {
      "text/plain": [
       "array([[1.5571415e+07, 1.0000000e+00, 3.7580000e+01, 0.0000000e+00,\n",
       "        2.0000000e+00, 8.0000000e+00, 4.0000000e+00, 0.0000000e+00,\n",
       "        0.0000000e+00, 0.0000000e+00, 0.0000000e+00, 0.0000000e+00,\n",
       "        3.0000000e+00, 1.8400000e+02, 1.0000000e+00],\n",
       "       [1.5699340e+07, 1.0000000e+00, 2.3170000e+01, 0.0000000e+00,\n",
       "        2.0000000e+00, 8.0000000e+00, 4.0000000e+00, 0.0000000e+00,\n",
       "        0.0000000e+00, 0.0000000e+00, 0.0000000e+00, 0.0000000e+00,\n",
       "        3.0000000e+00, 1.8400000e+02, 1.0000000e+00],\n",
       "       [1.5644400e+07, 1.0000000e+00, 3.4580000e+01, 0.0000000e+00,\n",
       "        2.0000000e+00, 8.0000000e+00, 4.0000000e+00, 0.0000000e+00,\n",
       "        0.0000000e+00, 0.0000000e+00, 0.0000000e+00, 0.0000000e+00,\n",
       "        3.0000000e+00, 1.8400000e+02, 1.0000000e+00],\n",
       "       [1.5684440e+07, 1.0000000e+00, 3.3670000e+01, 2.1650000e+00,\n",
       "        2.0000000e+00, 8.0000000e+00, 4.0000000e+00, 1.5000000e+00,\n",
       "        0.0000000e+00, 0.0000000e+00, 0.0000000e+00, 0.0000000e+00,\n",
       "        3.0000000e+00, 1.2000000e+02, 1.0000000e+00],\n",
       "       [1.5648069e+07, 0.0000000e+00, 2.4500000e+01, 1.7500000e+00,\n",
       "        1.0000000e+00, 8.0000000e+00, 4.0000000e+00, 1.6500000e-01,\n",
       "        0.0000000e+00, 0.0000000e+00, 0.0000000e+00, 0.0000000e+00,\n",
       "        2.0000000e+00, 1.3200000e+02, 1.0000000e+00],\n",
       "       [1.5731586e+07, 0.0000000e+00, 2.9500000e+01, 2.0000000e+00,\n",
       "        1.0000000e+00, 1.0000000e+01, 8.0000000e+00, 2.0000000e+00,\n",
       "        0.0000000e+00, 0.0000000e+00, 0.0000000e+00, 0.0000000e+00,\n",
       "        2.0000000e+00, 2.5600000e+02, 1.8000000e+01],\n",
       "       [1.5575605e+07, 0.0000000e+00, 2.4750000e+01, 1.3665000e+01,\n",
       "        2.0000000e+00, 1.1000000e+01, 8.0000000e+00, 1.5000000e+00,\n",
       "        0.0000000e+00, 0.0000000e+00, 0.0000000e+00, 0.0000000e+00,\n",
       "        2.0000000e+00, 2.8000000e+02, 2.0000000e+00],\n",
       "       [1.5644453e+07, 0.0000000e+00, 1.8170000e+01, 1.0000000e+01,\n",
       "        1.0000000e+00, 1.1000000e+01, 8.0000000e+00, 1.6500000e-01,\n",
       "        0.0000000e+00, 0.0000000e+00, 0.0000000e+00, 0.0000000e+00,\n",
       "        2.0000000e+00, 3.4000000e+02, 1.0000000e+00],\n",
       "       [1.5694666e+07, 0.0000000e+00, 2.6500000e+01, 2.7100000e+00,\n",
       "        1.0000000e+00, 8.0000000e+00, 4.0000000e+00, 8.5000000e-02,\n",
       "        0.0000000e+00, 0.0000000e+00, 0.0000000e+00, 0.0000000e+00,\n",
       "        1.0000000e+00, 8.0000000e+01, 1.0000000e+00],\n",
       "       [1.5646594e+07, 0.0000000e+00, 1.5920000e+01, 2.8750000e+00,\n",
       "        2.0000000e+00, 1.1000000e+01, 4.0000000e+00, 8.5000000e-02,\n",
       "        0.0000000e+00, 0.0000000e+00, 0.0000000e+00, 0.0000000e+00,\n",
       "        2.0000000e+00, 1.2000000e+02, 1.0000000e+00],\n",
       "       [1.5699238e+07, 0.0000000e+00, 2.2500000e+01, 8.4600000e+00,\n",
       "        1.0000000e+00, 1.4000000e+01, 4.0000000e+00, 2.4600000e+00,\n",
       "        0.0000000e+00, 0.0000000e+00, 0.0000000e+00, 0.0000000e+00,\n",
       "        2.0000000e+00, 1.6400000e+02, 1.0000000e+00],\n",
       "       [1.5593959e+07, 0.0000000e+00, 2.1750000e+01, 1.7500000e+00,\n",
       "        1.0000000e+00, 5.0000000e+00, 3.0000000e+00, 0.0000000e+00,\n",
       "        0.0000000e+00, 0.0000000e+00, 0.0000000e+00, 0.0000000e+00,\n",
       "        2.0000000e+00, 1.6000000e+02, 1.0000000e+00],\n",
       "       [1.5577771e+07, 0.0000000e+00, 2.9500000e+01, 1.0850000e+00,\n",
       "        1.0000000e+00, 1.4000000e+01, 4.0000000e+00, 1.0000000e+00,\n",
       "        0.0000000e+00, 0.0000000e+00, 0.0000000e+00, 0.0000000e+00,\n",
       "        2.0000000e+00, 2.8000000e+02, 1.4000000e+01],\n",
       "       [1.5599272e+07, 0.0000000e+00, 3.3670000e+01, 3.7500000e-01,\n",
       "        2.0000000e+00, 1.3000000e+01, 4.0000000e+00, 3.7500000e-01,\n",
       "        0.0000000e+00, 0.0000000e+00, 0.0000000e+00, 0.0000000e+00,\n",
       "        2.0000000e+00, 3.0000000e+02, 4.5000000e+01],\n",
       "       [1.5704581e+07, 1.0000000e+00, 2.3750000e+01, 4.1500000e-01,\n",
       "        1.0000000e+00, 8.0000000e+00, 4.0000000e+00, 4.0000000e-02,\n",
       "        0.0000000e+00, 1.0000000e+00, 2.0000000e+00, 0.0000000e+00,\n",
       "        2.0000000e+00, 1.2800000e+02, 7.0000000e+00],\n",
       "       [1.5725776e+07, 1.0000000e+00, 2.3080000e+01, 0.0000000e+00,\n",
       "        2.0000000e+00, 4.0000000e+00, 4.0000000e+00, 1.0000000e+00,\n",
       "        0.0000000e+00, 1.0000000e+00, 1.1000000e+01, 0.0000000e+00,\n",
       "        1.0000000e+00, 0.0000000e+00, 1.0000000e+00],\n",
       "       [1.5697460e+07, 1.0000000e+00, 2.2000000e+01, 7.9000000e-01,\n",
       "        2.0000000e+00, 9.0000000e+00, 4.0000000e+00, 2.9000000e-01,\n",
       "        0.0000000e+00, 1.0000000e+00, 1.0000000e+00, 0.0000000e+00,\n",
       "        2.0000000e+00, 4.2000000e+02, 2.8400000e+02],\n",
       "       [1.5737998e+07, 1.0000000e+00, 1.8830000e+01, 4.1500000e-01,\n",
       "        1.0000000e+00, 8.0000000e+00, 4.0000000e+00, 1.6500000e-01,\n",
       "        0.0000000e+00, 1.0000000e+00, 1.0000000e+00, 0.0000000e+00,\n",
       "        2.0000000e+00, 2.0000000e+02, 2.0000000e+00],\n",
       "       [1.5586183e+07, 1.0000000e+00, 1.7080000e+01, 2.5000000e-01,\n",
       "        2.0000000e+00, 1.1000000e+01, 4.0000000e+00, 3.3500000e-01,\n",
       "        0.0000000e+00, 1.0000000e+00, 4.0000000e+00, 0.0000000e+00,\n",
       "        2.0000000e+00, 1.6000000e+02, 9.0000000e+00],\n",
       "       [1.5718921e+07, 1.0000000e+00, 1.6330000e+01, 2.7500000e+00,\n",
       "        2.0000000e+00, 6.0000000e+00, 4.0000000e+00, 6.6500000e-01,\n",
       "        0.0000000e+00, 1.0000000e+00, 1.0000000e+00, 0.0000000e+00,\n",
       "        2.0000000e+00, 8.0000000e+01, 2.2000000e+01],\n",
       "       [1.5607988e+07, 1.0000000e+00, 3.8420000e+01, 7.0500000e-01,\n",
       "        2.0000000e+00, 8.0000000e+00, 4.0000000e+00, 3.7500000e-01,\n",
       "        0.0000000e+00, 1.0000000e+00, 2.0000000e+00, 0.0000000e+00,\n",
       "        2.0000000e+00, 2.2500000e+02, 5.0100000e+02],\n",
       "       [1.5683993e+07, 1.0000000e+00, 1.6000000e+01, 3.1250000e+00,\n",
       "        2.0000000e+00, 9.0000000e+00, 4.0000000e+00, 8.5000000e-02,\n",
       "        0.0000000e+00, 1.0000000e+00, 1.0000000e+00, 0.0000000e+00,\n",
       "        2.0000000e+00, 0.0000000e+00, 7.0000000e+00],\n",
       "       [1.5797767e+07, 1.0000000e+00, 2.5170000e+01, 3.0000000e+00,\n",
       "        2.0000000e+00, 8.0000000e+00, 4.0000000e+00, 1.2500000e+00,\n",
       "        0.0000000e+00, 1.0000000e+00, 1.0000000e+00, 0.0000000e+00,\n",
       "        2.0000000e+00, 0.0000000e+00, 2.3000000e+01],\n",
       "       [1.5744044e+07, 1.0000000e+00, 2.3250000e+01, 1.2625000e+01,\n",
       "        2.0000000e+00, 8.0000000e+00, 4.0000000e+00, 1.2500000e-01,\n",
       "        0.0000000e+00, 1.0000000e+00, 2.0000000e+00, 0.0000000e+00,\n",
       "        2.0000000e+00, 0.0000000e+00, 5.5530000e+03],\n",
       "       [1.5632010e+07, 1.0000000e+00, 3.5750000e+01, 2.4150000e+00,\n",
       "        2.0000000e+00, 9.0000000e+00, 4.0000000e+00, 1.2500000e-01,\n",
       "        0.0000000e+00, 1.0000000e+00, 2.0000000e+00, 0.0000000e+00,\n",
       "        2.0000000e+00, 2.2000000e+02, 2.0000000e+00],\n",
       "       [1.5804235e+07, 1.0000000e+00, 2.9500000e+01, 5.8000000e-01,\n",
       "        2.0000000e+00, 9.0000000e+00, 4.0000000e+00, 2.9000000e-01,\n",
       "        0.0000000e+00, 1.0000000e+00, 1.0000000e+00, 0.0000000e+00,\n",
       "        2.0000000e+00, 3.4000000e+02, 2.8040000e+03],\n",
       "       [1.5627365e+07, 1.0000000e+00, 2.4420000e+01, 2.0000000e+00,\n",
       "        2.0000000e+00, 1.0000000e+01, 2.0000000e+00, 1.6500000e-01,\n",
       "        0.0000000e+00, 1.0000000e+00, 2.0000000e+00, 0.0000000e+00,\n",
       "        2.0000000e+00, 3.2000000e+02, 1.3010000e+03],\n",
       "       [1.5700300e+07, 1.0000000e+00, 1.7580000e+01, 1.0000000e+01,\n",
       "        2.0000000e+00, 9.0000000e+00, 8.0000000e+00, 1.6500000e-01,\n",
       "        0.0000000e+00, 1.0000000e+00, 1.0000000e+00, 0.0000000e+00,\n",
       "        2.0000000e+00, 1.2000000e+02, 2.0000000e+00],\n",
       "       [1.5791944e+07, 1.0000000e+00, 1.9420000e+01, 7.2500000e+00,\n",
       "        2.0000000e+00, 7.0000000e+00, 4.0000000e+00, 4.0000000e-02,\n",
       "        0.0000000e+00, 1.0000000e+00, 1.0000000e+00, 0.0000000e+00,\n",
       "        2.0000000e+00, 1.0000000e+02, 2.0000000e+00],\n",
       "       [1.5576680e+07, 1.0000000e+00, 2.4080000e+01, 8.7500000e-01,\n",
       "        2.0000000e+00, 7.0000000e+00, 4.0000000e+00, 8.5000000e-02,\n",
       "        0.0000000e+00, 1.0000000e+00, 4.0000000e+00, 0.0000000e+00,\n",
       "        2.0000000e+00, 2.5400000e+02, 1.9510000e+03],\n",
       "       [1.5620570e+07, 1.0000000e+00, 2.5420000e+01, 5.4000000e-01,\n",
       "        2.0000000e+00, 9.0000000e+00, 4.0000000e+00, 1.6500000e-01,\n",
       "        0.0000000e+00, 1.0000000e+00, 1.0000000e+00, 0.0000000e+00,\n",
       "        2.0000000e+00, 2.7200000e+02, 4.4500000e+02],\n",
       "       [1.5592412e+07, 1.0000000e+00, 4.1000000e+01, 4.0000000e-02,\n",
       "        2.0000000e+00, 1.0000000e+01, 4.0000000e+00, 4.0000000e-02,\n",
       "        0.0000000e+00, 1.0000000e+00, 1.0000000e+00, 0.0000000e+00,\n",
       "        1.0000000e+00, 5.6000000e+02, 1.0000000e+00]])"
      ]
     },
     "execution_count": 15,
     "metadata": {},
     "output_type": "execute_result"
    }
   ],
   "source": [
    "frauds"
   ]
  }
 ],
 "metadata": {
  "kernelspec": {
   "display_name": "Python 3",
   "language": "python",
   "name": "python3"
  },
  "language_info": {
   "codemirror_mode": {
    "name": "ipython",
    "version": 3
   },
   "file_extension": ".py",
   "mimetype": "text/x-python",
   "name": "python",
   "nbconvert_exporter": "python",
   "pygments_lexer": "ipython3",
   "version": "3.6.1"
  }
 },
 "nbformat": 4,
 "nbformat_minor": 2
}
