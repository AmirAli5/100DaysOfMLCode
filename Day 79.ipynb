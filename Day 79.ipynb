{
 "cells": [
  {
   "cell_type": "markdown",
   "metadata": {},
   "source": [
    "##   Packt Computer Vision with Python3 - Digit Recognition"
   ]
  },
  {
   "cell_type": "code",
   "execution_count": 1,
   "metadata": {},
   "outputs": [
    {
     "name": "stderr",
     "output_type": "stream",
     "text": [
      "C:\\Users\\amira\\Anaconda3\\lib\\site-packages\\h5py\\__init__.py:36: FutureWarning: Conversion of the second argument of issubdtype from `float` to `np.floating` is deprecated. In future, it will be treated as `np.float64 == np.dtype(float).type`.\n",
      "  from ._conv import register_converters as _register_converters\n"
     ]
    }
   ],
   "source": [
    "# import Liraries\n",
    "import numpy as np\n",
    "import matplotlib.pyplot as plt\n",
    "import sys\n",
    "import tempfile\n",
    "\n",
    "from sklearn import  svm, metrics\n",
    "import tensorflow as tf\n",
    "\n",
    "from tensorflow.examples.tutorials.mnist import input_data"
   ]
  },
  {
   "cell_type": "code",
   "execution_count": 2,
   "metadata": {},
   "outputs": [
    {
     "name": "stdout",
     "output_type": "stream",
     "text": [
      "<class 'numpy.ndarray'>\n"
     ]
    },
    {
     "data": {
      "image/png": "[encoded data removed]",
      "text/plain": [
       "<Figure size 432x288 with 1 Axes>"
      ]
     },
     "metadata": {},
     "output_type": "display_data"
    },
    {
     "data": {
      "text/plain": [
       "array([[ 0.],\n",
       "       [ 0.],\n",
       "       [ 5.],\n",
       "       [13.],\n",
       "       [ 9.],\n",
       "       [ 1.],\n",
       "       [ 0.],\n",
       "       [ 0.],\n",
       "       [ 0.],\n",
       "       [ 0.],\n",
       "       [13.],\n",
       "       [15.],\n",
       "       [10.],\n",
       "       [15.],\n",
       "       [ 5.],\n",
       "       [ 0.],\n",
       "       [ 0.],\n",
       "       [ 3.],\n",
       "       [15.],\n",
       "       [ 2.],\n",
       "       [ 0.],\n",
       "       [11.],\n",
       "       [ 8.],\n",
       "       [ 0.],\n",
       "       [ 0.],\n",
       "       [ 4.],\n",
       "       [12.],\n",
       "       [ 0.],\n",
       "       [ 0.],\n",
       "       [ 8.],\n",
       "       [ 8.],\n",
       "       [ 0.],\n",
       "       [ 0.],\n",
       "       [ 5.],\n",
       "       [ 8.],\n",
       "       [ 0.],\n",
       "       [ 0.],\n",
       "       [ 9.],\n",
       "       [ 8.],\n",
       "       [ 0.],\n",
       "       [ 0.],\n",
       "       [ 4.],\n",
       "       [11.],\n",
       "       [ 0.],\n",
       "       [ 1.],\n",
       "       [12.],\n",
       "       [ 7.],\n",
       "       [ 0.],\n",
       "       [ 0.],\n",
       "       [ 2.],\n",
       "       [14.],\n",
       "       [ 5.],\n",
       "       [10.],\n",
       "       [12.],\n",
       "       [ 0.],\n",
       "       [ 0.],\n",
       "       [ 0.],\n",
       "       [ 0.],\n",
       "       [ 6.],\n",
       "       [13.],\n",
       "       [10.],\n",
       "       [ 0.],\n",
       "       [ 0.],\n",
       "       [ 0.]])"
      ]
     },
     "execution_count": 2,
     "metadata": {},
     "output_type": "execute_result"
    }
   ],
   "source": [
    "#what kind of data do we already have?\n",
    "from sklearn import datasets\n",
    "digits=datasets.load_digits()\n",
    "\n",
    "\n",
    "example_image=digits.images[0]\n",
    "print(type(example_image))\n",
    "plt.imshow(example_image); plt.show()\n",
    "example_image.reshape((8*8,1))"
   ]
  },
  {
   "cell_type": "code",
   "execution_count": 3,
   "metadata": {},
   "outputs": [
    {
     "name": "stdout",
     "output_type": "stream",
     "text": [
      "WARNING:tensorflow:From <ipython-input-3-0e8d17c2dda7>:5: read_data_sets (from tensorflow.contrib.learn.python.learn.datasets.mnist) is deprecated and will be removed in a future version.\n",
      "Instructions for updating:\n",
      "Please use alternatives such as official/mnist/dataset.py from tensorflow/models.\n",
      "WARNING:tensorflow:From C:\\Users\\amira\\Anaconda3\\lib\\site-packages\\tensorflow\\contrib\\learn\\python\\learn\\datasets\\mnist.py:260: maybe_download (from tensorflow.contrib.learn.python.learn.datasets.base) is deprecated and will be removed in a future version.\n",
      "Instructions for updating:\n",
      "Please write your own downloading logic.\n",
      "WARNING:tensorflow:From C:\\Users\\amira\\Anaconda3\\lib\\site-packages\\tensorflow\\contrib\\learn\\python\\learn\\datasets\\mnist.py:262: extract_images (from tensorflow.contrib.learn.python.learn.datasets.mnist) is deprecated and will be removed in a future version.\n",
      "Instructions for updating:\n",
      "Please use tf.data to implement this functionality.\n",
      "Extracting /tmp/tensorflow/mnist/input_data\\train-images-idx3-ubyte.gz\n",
      "WARNING:tensorflow:From C:\\Users\\amira\\Anaconda3\\lib\\site-packages\\tensorflow\\contrib\\learn\\python\\learn\\datasets\\mnist.py:267: extract_labels (from tensorflow.contrib.learn.python.learn.datasets.mnist) is deprecated and will be removed in a future version.\n",
      "Instructions for updating:\n",
      "Please use tf.data to implement this functionality.\n",
      "Extracting /tmp/tensorflow/mnist/input_data\\train-labels-idx1-ubyte.gz\n",
      "WARNING:tensorflow:From C:\\Users\\amira\\Anaconda3\\lib\\site-packages\\tensorflow\\contrib\\learn\\python\\learn\\datasets\\mnist.py:110: dense_to_one_hot (from tensorflow.contrib.learn.python.learn.datasets.mnist) is deprecated and will be removed in a future version.\n",
      "Instructions for updating:\n",
      "Please use tf.one_hot on tensors.\n",
      "Extracting /tmp/tensorflow/mnist/input_data\\t10k-images-idx3-ubyte.gz\n",
      "Extracting /tmp/tensorflow/mnist/input_data\\t10k-labels-idx1-ubyte.gz\n",
      "WARNING:tensorflow:From C:\\Users\\amira\\Anaconda3\\lib\\site-packages\\tensorflow\\contrib\\learn\\python\\learn\\datasets\\mnist.py:290: DataSet.__init__ (from tensorflow.contrib.learn.python.learn.datasets.mnist) is deprecated and will be removed in a future version.\n",
      "Instructions for updating:\n",
      "Please use alternatives such as official/mnist/dataset.py from tensorflow/models.\n"
     ]
    }
   ],
   "source": [
    "#acquire standard MNIST handwritten digit data\n",
    "#http://yann.lecun.com/exdb/mnist/\n",
    "\n",
    "data_dir = '/tmp/tensorflow/mnist/input_data'\n",
    "mnist = input_data.read_data_sets(data_dir, one_hot=True)"
   ]
  },
  {
   "cell_type": "code",
   "execution_count": 4,
   "metadata": {},
   "outputs": [
    {
     "name": "stdout",
     "output_type": "stream",
     "text": [
      "(55000, 784)\n"
     ]
    },
    {
     "data": {
      "image/png": "[encoded data removed]",
      "text/plain": [
       "<Figure size 432x288 with 1 Axes>"
      ]
     },
     "metadata": {},
     "output_type": "display_data"
    }
   ],
   "source": [
    "#now we load and examine the data\n",
    "train_data=mnist.train.images\n",
    "print(train_data.shape)\n",
    "n_samples = train_data.shape[0]\n",
    "\n",
    "\n",
    "train_labels=np.array(np.where(mnist.train.labels==1))[1]\n",
    "\n",
    "plt.imshow(train_data[1000].reshape((28,28))); plt.show()"
   ]
  },
  {
   "cell_type": "code",
   "execution_count": null,
   "metadata": {},
   "outputs": [],
   "source": [
    "# Create a classifier: a support vector classifier\n",
    "classifier = svm.SVC(gamma=0.001)\n",
    "# Learn about gamma and other SVM parameters here:\n",
    "# http://scikit-learn.org/stable/auto_examples/svm/plot_rbf_parameters.html\n",
    "# Exercise:  Experiment with the parameters to see how they affect execution \n",
    "#             time and accuracy\n",
    "\n",
    "# Train the model -- we're only going to use the training data (and not\n",
    "# the test data) to ensure that our model generalizes to unseen cases.\n",
    "# This (training) is typically what takes the most computational time\n",
    "# when doing machine learning.\n",
    "classifier.fit(train_data, train_labels)"
   ]
  },
  {
   "cell_type": "code",
   "execution_count": null,
   "metadata": {},
   "outputs": [],
   "source": [
    "# Now predict the value of the digit on the test data:\n",
    "test_data=mnist.test.images\n",
    "test_labels=np.array(np.where(mnist.test.labels==1))[1]\n",
    "\n",
    "expected = test_labels\n",
    "predicted = classifier.predict(test_data)"
   ]
  },
  {
   "cell_type": "code",
   "execution_count": null,
   "metadata": {},
   "outputs": [],
   "source": [
    "# And display the results\n",
    "print(\"See https://en.wikipedia.org/wiki/Precision_and_recall to understand metric definitions\")\n",
    "print(\"Classification report for classifier %s:\\n%s\\n\"\n",
    "      % (classifier, metrics.classification_report(expected, predicted)))\n",
    "print(\"Confusion matrix:\\n%s\" % metrics.confusion_matrix(expected, predicted))\n",
    "\n",
    "images_and_predictions = list(zip(test_data, predicted))\n",
    "for index, (image, prediction) in enumerate(images_and_predictions[:4]):\n",
    "    plt.subplot(2, 4, index + 5)\n",
    "    plt.axis('off')\n",
    "    plt.imshow(image.reshape((28,28)), cmap=plt.cm.gray_r, interpolation='nearest')\n",
    "    plt.title('Prediction: %i' % prediction)\n",
    "\n",
    "plt.show()"
   ]
  },
  {
   "cell_type": "code",
   "execution_count": null,
   "metadata": {},
   "outputs": [],
   "source": [
    ":\n",
    "#Let's test our model on images we draw ourselves!\n",
    "\n",
    "from matplotlib.lines import Line2D\n",
    "%pylab notebook \n",
    "#This is needed for plot widgets\n",
    "\n",
    "class Annotator(object):\n",
    "    def __init__(self, axes):\n",
    "        self.axes = axes\n",
    "\n",
    "        self.xdata = []\n",
    "        self.ydata = []\n",
    "        self.xy    = []\n",
    "        self.drawon = False\n",
    "\n",
    "    def mouse_move(self, event):\n",
    "        if not event.inaxes:\n",
    "            return\n",
    "\n",
    "        x, y = event.xdata, event.ydata\n",
    "        if self.drawon:\n",
    "            self.xdata.append(x)\n",
    "            self.ydata.append(y)\n",
    "            self.xy.append((int(x),int(y)))\n",
    "            line = Line2D(self.xdata,self.ydata)\n",
    "            line.set_color('r')\n",
    "            self.axes.add_line(line)\n",
    "\n",
    "            plt.draw()\n",
    "\n",
    "    def mouse_release(self, event):\n",
    "        # Erase x and y data for new line\n",
    "        self.xdata = []\n",
    "        self.ydata = []\n",
    "        self.drawon = False\n",
    "        \n",
    "    def mouse_press(self, event):\n",
    "        self.drawon = True\n",
    "\n",
    "\n",
    "img = np.zeros((28,28,3),dtype='uint8')\n",
    "\n",
    "fig, axes = plt.subplots(figsize=(3,3))\n",
    "axes.imshow(img)\n",
    "plt.axis(\"off\")\n",
    "plt.gray()\n",
    "annotator = Annotator(axes)\n",
    "plt.connect('motion_notify_event', annotator.mouse_move)\n",
    "plt.connect('button_release_event', annotator.mouse_release)\n",
    "plt.connect('button_press_event', annotator.mouse_press)\n",
    "\n",
    "axes.plot()\n",
    "\n",
    "plt.show()"
   ]
  }
 ],
 "metadata": {
  "kernelspec": {
   "display_name": "Python 3",
   "language": "python",
   "name": "python3"
  },
  "language_info": {
   "codemirror_mode": {
    "name": "ipython",
    "version": 3
   },
   "file_extension": ".py",
   "mimetype": "text/x-python",
   "name": "python",
   "nbconvert_exporter": "python",
   "pygments_lexer": "ipython3",
   "version": "3.6.1"
  }
 },
 "nbformat": 4,
 "nbformat_minor": 2
}
