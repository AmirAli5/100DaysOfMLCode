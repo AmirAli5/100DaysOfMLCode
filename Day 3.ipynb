{
 "cells": [
  {
   "cell_type": "markdown",
   "metadata": {},
   "source": [
    "## Email Spam Filtering Using the Decsion Tree Classifier Approach"
   ]
  },
  {
   "cell_type": "markdown",
   "metadata": {},
   "source": [
    "#### Part 1: Data Preprocessing"
   ]
  },
  {
   "cell_type": "code",
   "execution_count": 1,
   "metadata": {},
   "outputs": [],
   "source": [
    "# import the libraries\n",
    "import numpy as np                  # used for multidimensional array\n",
    "import pandas as pd                 # used for import the dataset\n",
    "import matplotlib.pyplot as plt     # used for ploting the graph"
   ]
  },
  {
   "cell_type": "code",
   "execution_count": 4,
   "metadata": {},
   "outputs": [],
   "source": [
    "# import the dataset\n",
    "dataset= pd.read_csv('Email spam.csv')\n",
    "X= dataset.iloc[:, :-1].values     # predictor attributes\n",
    "y= dataset.iloc[:, -1].values      # Target attribute"
   ]
  },
  {
   "cell_type": "code",
   "execution_count": 7,
   "metadata": {},
   "outputs": [],
   "source": [
    "# split the dataset into test set and train set\n",
    "from sklearn.model_selection import train_test_split\n",
    "X_train, X_test, y_train, y_test = train_test_split(X,y, test_size=0.2, random_state=0)"
   ]
  },
  {
   "cell_type": "markdown",
   "metadata": {},
   "source": [
    "#### Part 2: Building the  model"
   ]
  },
  {
   "cell_type": "code",
   "execution_count": 8,
   "metadata": {},
   "outputs": [],
   "source": [
    "# import the Decision tree classider from scikit learn\n",
    "from sklearn.tree import DecisionTreeClassifier"
   ]
  },
  {
   "cell_type": "code",
   "execution_count": 10,
   "metadata": {},
   "outputs": [],
   "source": [
    "#initialize the Decision tree model\n",
    "classifier=DecisionTreeClassifier(criterion ='entropy', random_state= 0)"
   ]
  },
  {
   "cell_type": "code",
   "execution_count": 11,
   "metadata": {},
   "outputs": [
    {
     "data": {
      "text/plain": [
       "DecisionTreeClassifier(class_weight=None, criterion='entropy', max_depth=None,\n",
       "            max_features=None, max_leaf_nodes=None,\n",
       "            min_impurity_decrease=0.0, min_impurity_split=None,\n",
       "            min_samples_leaf=1, min_samples_split=2,\n",
       "            min_weight_fraction_leaf=0.0, presort=False, random_state=0,\n",
       "            splitter='best')"
      ]
     },
     "execution_count": 11,
     "metadata": {},
     "output_type": "execute_result"
    }
   ],
   "source": [
    "# fir the model\n",
    "classifier.fit(X_train,y_train)"
   ]
  },
  {
   "cell_type": "markdown",
   "metadata": {},
   "source": [
    "#### Part 3:Predicted the result and Visulising the result"
   ]
  },
  {
   "cell_type": "code",
   "execution_count": 12,
   "metadata": {},
   "outputs": [
    {
     "data": {
      "text/plain": [
       "array(['y', 'n', 'n', 'y', 'y', 'n', 'n', 'n', 'y', 'y', 'y', 'n', 'y',\n",
       "       'y', 'n', 'n', 'y', 'y', 'y', 'n', 'n', 'n', 'n', 'y', 'n', 'y',\n",
       "       'n', 'n', 'n', 'y', 'n', 'y', 'y', 'n', 'n', 'y', 'n', 'n', 'n',\n",
       "       'y', 'y', 'y', 'n', 'n', 'y', 'y', 'n', 'n', 'y', 'n', 'n', 'n',\n",
       "       'n', 'n', 'y', 'n', 'n', 'n', 'y', 'y', 'n', 'n', 'n', 'n', 'n',\n",
       "       'y', 'n', 'n', 'n', 'n', 'n', 'n', 'y', 'y', 'y', 'n', 'y', 'n',\n",
       "       'n', 'n', 'y', 'n', 'y', 'n', 'n', 'n', 'y', 'n', 'y', 'n', 'y',\n",
       "       'n', 'n', 'y', 'n', 'n', 'n', 'n', 'n', 'n', 'n', 'n', 'n', 'n',\n",
       "       'n', 'y', 'y', 'n', 'n', 'n', 'n', 'y', 'y', 'n', 'n', 'y', 'n',\n",
       "       'n', 'n', 'n', 'y', 'n', 'n', 'y', 'n', 'n', 'n', 'n', 'y', 'y',\n",
       "       'y', 'n', 'y', 'n', 'y', 'n', 'y', 'n', 'y', 'y', 'y', 'n', 'n',\n",
       "       'y', 'n', 'y', 'y', 'y', 'y', 'n', 'n', 'y', 'n', 'n', 'n', 'y',\n",
       "       'n', 'n', 'y', 'y', 'y', 'n', 'n', 'y', 'n', 'n', 'y', 'y', 'n',\n",
       "       'n', 'n', 'y', 'n', 'n', 'y', 'y', 'n', 'y', 'y', 'n', 'n', 'y',\n",
       "       'y', 'n', 'n', 'n', 'y', 'y', 'y', 'y', 'n', 'y', 'n', 'y', 'n',\n",
       "       'y', 'y', 'y', 'y', 'y', 'y', 'y', 'y', 'n', 'n', 'y', 'y', 'y',\n",
       "       'y', 'n', 'n', 'y', 'n', 'n', 'n', 'n', 'n', 'n', 'n', 'y', 'y',\n",
       "       'n', 'y', 'y', 'n', 'y', 'n', 'n', 'y', 'y', 'n', 'n', 'y', 'n',\n",
       "       'n', 'n', 'n', 'n', 'n', 'n', 'y', 'n', 'n', 'y', 'n', 'n', 'n',\n",
       "       'y', 'n', 'y', 'y', 'n', 'n', 'y', 'n', 'n', 'y', 'n', 'n', 'n',\n",
       "       'y', 'y', 'y', 'n', 'n', 'y', 'n', 'y', 'n', 'n', 'y', 'n', 'n',\n",
       "       'n', 'y', 'y', 'n', 'n', 'n', 'n', 'y', 'n', 'n', 'y', 'n', 'y',\n",
       "       'n', 'y', 'n', 'n', 'n', 'n', 'y', 'y', 'n', 'n', 'y', 'y', 'n',\n",
       "       'n', 'y', 'n', 'y', 'n', 'n', 'y', 'n', 'n', 'n', 'n', 'y', 'n',\n",
       "       'y', 'y', 'n', 'n', 'n', 'y', 'y', 'y', 'n', 'y', 'y', 'y', 'n',\n",
       "       'y', 'y', 'y', 'n', 'n', 'y', 'y', 'n', 'n', 'y', 'n', 'n', 'n',\n",
       "       'n', 'n', 'n', 'y', 'n', 'y', 'n', 'y', 'y', 'y', 'n', 'y', 'y',\n",
       "       'n', 'n', 'y', 'y', 'n', 'n', 'n', 'n', 'n', 'n', 'y', 'n', 'n',\n",
       "       'y', 'n', 'y', 'n', 'n', 'y', 'n', 'y', 'y', 'n', 'n', 'n', 'y',\n",
       "       'n', 'n', 'y', 'n', 'n', 'n', 'y', 'y', 'n', 'y', 'y', 'y', 'n',\n",
       "       'n', 'y', 'n', 'y', 'n', 'n', 'n', 'n', 'n', 'y', 'y', 'y', 'n',\n",
       "       'n', 'n', 'y', 'n', 'n', 'y', 'y', 'n', 'y', 'y', 'n', 'y', 'n',\n",
       "       'y', 'n', 'n', 'n', 'n', 'y', 'y', 'n', 'n', 'n', 'n', 'n', 'n',\n",
       "       'y', 'n', 'n', 'y', 'n', 'n', 'n', 'n', 'n', 'n', 'n', 'n', 'n',\n",
       "       'y', 'y', 'n', 'y', 'y', 'y', 'n', 'n', 'y', 'n', 'n', 'y', 'y',\n",
       "       'y', 'n', 'y', 'y', 'y', 'y', 'y', 'y', 'n', 'n', 'n', 'y', 'y',\n",
       "       'n', 'y', 'n', 'y', 'n', 'n', 'n', 'n', 'n', 'y', 'n', 'n', 'n',\n",
       "       'n', 'n', 'n', 'n', 'n', 'y', 'y', 'y', 'y', 'y', 'y', 'n', 'n',\n",
       "       'y', 'n', 'n', 'n', 'n', 'n', 'n', 'y', 'y', 'n', 'n', 'y', 'y',\n",
       "       'n', 'n', 'n', 'n', 'y', 'n', 'n', 'y', 'n', 'y', 'n', 'n', 'n',\n",
       "       'n', 'n', 'y', 'y', 'n', 'y', 'y', 'n', 'y', 'n', 'y', 'n', 'y',\n",
       "       'n', 'n', 'n', 'y', 'n', 'n', 'y', 'n', 'n', 'n', 'n', 'y', 'y',\n",
       "       'n', 'n', 'y', 'y', 'y', 'n', 'n', 'n', 'n', 'n', 'y', 'n', 'y',\n",
       "       'n', 'y', 'n', 'y', 'n', 'n', 'y', 'n', 'y', 'n', 'y', 'n', 'n',\n",
       "       'n', 'n', 'n', 'y', 'n', 'y', 'y', 'n', 'n', 'y', 'y', 'n', 'n',\n",
       "       'y', 'n', 'n', 'n', 'y', 'n', 'n', 'y', 'n', 'y', 'n', 'y', 'n',\n",
       "       'y', 'y', 'n', 'n', 'n', 'n', 'y', 'n', 'n', 'n', 'y', 'n', 'n',\n",
       "       'n', 'y', 'n', 'y', 'n', 'n', 'n', 'n', 'n', 'n', 'y', 'n', 'n',\n",
       "       'n', 'y', 'n', 'n', 'n', 'y', 'n', 'n', 'n', 'y', 'n', 'n', 'n',\n",
       "       'y', 'y', 'n', 'y', 'n', 'n', 'y', 'y', 'y', 'n', 'n', 'n', 'y',\n",
       "       'n', 'n', 'y', 'y', 'n', 'y', 'y', 'y', 'n', 'n', 'n', 'n', 'n',\n",
       "       'n', 'n', 'y', 'y', 'n', 'n', 'y', 'y', 'n', 'n', 'n', 'n', 'y',\n",
       "       'n', 'n', 'y', 'n', 'n', 'y', 'n', 'n', 'n', 'n', 'n', 'n', 'y',\n",
       "       'n', 'n', 'n', 'y', 'y', 'y', 'n', 'y', 'n', 'y', 'n', 'n', 'y',\n",
       "       'n', 'n', 'y', 'y', 'n', 'n', 'n', 'n', 'n', 'n', 'y', 'n', 'n',\n",
       "       'y', 'n', 'n', 'y', 'n', 'y', 'n', 'n', 'n', 'y', 'n', 'n', 'n',\n",
       "       'y', 'y', 'n', 'n', 'n', 'y', 'y', 'n', 'n', 'n', 'n', 'n', 'n',\n",
       "       'y', 'n', 'n', 'n', 'y', 'y', 'y', 'n', 'y', 'n', 'n', 'n', 'n',\n",
       "       'n', 'y', 'y', 'n', 'n', 'y', 'n', 'n', 'n', 'n', 'y', 'y', 'y',\n",
       "       'n', 'n', 'y', 'n', 'n', 'y', 'y', 'y', 'n', 'y', 'y', 'n', 'y',\n",
       "       'n', 'y', 'y', 'y', 'n', 'n', 'n', 'y', 'n', 'n', 'n', 'y', 'y',\n",
       "       'n', 'n', 'y', 'n', 'y', 'y', 'y', 'y', 'n', 'n', 'n', 'y', 'n',\n",
       "       'n', 'y', 'y', 'y', 'y', 'y', 'y', 'n', 'y', 'n', 'y', 'n', 'y',\n",
       "       'n', 'n', 'y', 'y', 'y', 'y', 'n', 'n', 'y', 'y', 'n', 'n', 'n',\n",
       "       'y', 'n', 'y', 'n', 'y', 'n', 'y', 'y', 'n', 'y', 'y', 'n', 'n',\n",
       "       'n', 'y', 'n', 'n', 'n', 'y', 'n', 'y', 'n', 'n', 'n', 'y', 'n',\n",
       "       'n', 'y', 'n', 'n', 'y', 'y', 'n', 'y', 'y', 'n', 'n', 'y', 'y',\n",
       "       'y', 'n', 'n', 'y', 'n', 'n', 'y', 'n', 'n', 'y', 'n', 'n', 'n',\n",
       "       'n', 'n', 'n', 'y', 'n', 'n', 'n', 'n', 'n', 'n', 'n', 'y', 'n',\n",
       "       'n', 'y', 'n', 'n', 'y', 'y', 'n', 'n', 'n', 'y', 'y', 'y', 'y',\n",
       "       'n', 'y', 'n', 'y', 'n', 'y', 'y', 'n', 'n', 'n', 'y'],\n",
       "      dtype=object)"
      ]
     },
     "execution_count": 12,
     "metadata": {},
     "output_type": "execute_result"
    }
   ],
   "source": [
    "# predicted the result\n",
    "y_pred = classifier.predict(X_test)\n",
    "y_pred"
   ]
  },
  {
   "cell_type": "code",
   "execution_count": 13,
   "metadata": {},
   "outputs": [
    {
     "data": {
      "text/plain": [
       "array([[475,  63],\n",
       "       [ 74, 309]], dtype=int64)"
      ]
     },
     "execution_count": 13,
     "metadata": {},
     "output_type": "execute_result"
    }
   ],
   "source": [
    "# making a confusion matrix\n",
    "from sklearn.metrics import confusion_matrix\n",
    "cm=confusion_matrix(y_test, y_pred)\n",
    "cm"
   ]
  },
  {
   "cell_type": "code",
   "execution_count": 15,
   "metadata": {},
   "outputs": [
    {
     "data": {
      "text/plain": [
       "0.8512486427795874"
      ]
     },
     "execution_count": 15,
     "metadata": {},
     "output_type": "execute_result"
    }
   ],
   "source": [
    "# accuracy score\n",
    "from sklearn.metrics import accuracy_score\n",
    "ac=accuracy_score(y_test,y_pred)\n",
    "ac"
   ]
  }
 ],
 "metadata": {
  "kernelspec": {
   "display_name": "Python 3",
   "language": "python",
   "name": "python3"
  },
  "language_info": {
   "codemirror_mode": {
    "name": "ipython",
    "version": 3
   },
   "file_extension": ".py",
   "mimetype": "text/x-python",
   "name": "python",
   "nbconvert_exporter": "python",
   "pygments_lexer": "ipython3",
   "version": "3.6.1"
  }
 },
 "nbformat": 4,
 "nbformat_minor": 2
}
