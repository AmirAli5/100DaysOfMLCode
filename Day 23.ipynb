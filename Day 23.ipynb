{
 "cells": [
  {
   "cell_type": "markdown",
   "metadata": {},
   "source": [
    "## Churn Modeling Problem using Artificial Neural Network "
   ]
  },
  {
   "cell_type": "markdown",
   "metadata": {},
   "source": [
    "#### Part 1: Data Preprocessing"
   ]
  },
  {
   "cell_type": "code",
   "execution_count": 1,
   "metadata": {},
   "outputs": [],
   "source": [
    "# import the Libraries\n",
    "import numpy as np                   # used for multidimensional array\n",
    "import pandas as pd                  # used for import the dataset\n",
    "import matplotlib.pyplot as plt      # used for ploting the graph"
   ]
  },
  {
   "cell_type": "code",
   "execution_count": 2,
   "metadata": {},
   "outputs": [],
   "source": [
    "# import the datset\n",
    "dataset = pd.read_csv('Churn_Modelling.csv')\n",
    "X = dataset.iloc[: , 3:13].values             # independent variable\n",
    "y = dataset.iloc[: , 13].values               # dependent variable"
   ]
  },
  {
   "cell_type": "code",
   "execution_count": 3,
   "metadata": {},
   "outputs": [],
   "source": [
    "# Encoding the categorical data\n",
    "from sklearn.preprocessing import LabelEncoder , OneHotEncoder\n",
    "labelencoder_X1 = LabelEncoder()\n",
    "X[:, 1] = labelencoder_X1.fit_transform(X[ : , 1])\n",
    "labelencoder_X2 = LabelEncoder()\n",
    "X[:, 2] = labelencoder_X2.fit_transform(X[: , 2])\n",
    "onehotencoder = OneHotEncoder(categorical_features = [1])\n",
    "X = onehotencoder.fit_transform(X).toarray()\n",
    "X = X[:, 1:]"
   ]
  },
  {
   "cell_type": "code",
   "execution_count": 4,
   "metadata": {},
   "outputs": [],
   "source": [
    "# split the dataset into test set and train set\n",
    "from sklearn.model_selection import train_test_split\n",
    "X_train, X_test, y_train, y_test =train_test_split(X,y, test_size= 0.2, random_state=0)"
   ]
  },
  {
   "cell_type": "code",
   "execution_count": 5,
   "metadata": {},
   "outputs": [],
   "source": [
    "# feature scaling\n",
    "from sklearn.preprocessing import StandardScaler\n",
    "sc = StandardScaler()\n",
    "X_train = sc.fit_transform(X_train)\n",
    "X_test = sc.transform(X_test)"
   ]
  },
  {
   "cell_type": "markdown",
   "metadata": {},
   "source": [
    "#### Part 2: Let's make the ANN"
   ]
  },
  {
   "cell_type": "code",
   "execution_count": 6,
   "metadata": {},
   "outputs": [
    {
     "name": "stderr",
     "output_type": "stream",
     "text": [
      "C:\\Users\\amira\\Anaconda3\\lib\\site-packages\\h5py\\__init__.py:36: FutureWarning: Conversion of the second argument of issubdtype from `float` to `np.floating` is deprecated. In future, it will be treated as `np.float64 == np.dtype(float).type`.\n",
      "  from ._conv import register_converters as _register_converters\n",
      "Using TensorFlow backend.\n"
     ]
    }
   ],
   "source": [
    "# importing the Keras Libraries and package\n",
    "import keras"
   ]
  },
  {
   "cell_type": "code",
   "execution_count": 7,
   "metadata": {},
   "outputs": [],
   "source": [
    "from keras.models import Sequential   # used for init our ANN model"
   ]
  },
  {
   "cell_type": "code",
   "execution_count": 8,
   "metadata": {},
   "outputs": [],
   "source": [
    "from keras.layers import Dense       # used for different layer structure"
   ]
  },
  {
   "cell_type": "code",
   "execution_count": 9,
   "metadata": {},
   "outputs": [],
   "source": [
    "# initializing the ANN model\n",
    "classifier = Sequential()"
   ]
  },
  {
   "cell_type": "code",
   "execution_count": 10,
   "metadata": {},
   "outputs": [
    {
     "name": "stderr",
     "output_type": "stream",
     "text": [
      "C:\\Users\\amira\\Anaconda3\\lib\\site-packages\\ipykernel_launcher.py:2: UserWarning: Update your `Dense` call to the Keras 2 API: `Dense(activation=\"relu\", input_dim=11, units=6, kernel_initializer=\"uniform\")`\n",
      "  \n"
     ]
    }
   ],
   "source": [
    "# adding the input layer and first hidden layer\n",
    "classifier.add( Dense ( output_dim=6, init= 'uniform', activation = 'relu' , input_dim = 11) )"
   ]
  },
  {
   "cell_type": "code",
   "execution_count": 11,
   "metadata": {},
   "outputs": [
    {
     "name": "stderr",
     "output_type": "stream",
     "text": [
      "C:\\Users\\amira\\Anaconda3\\lib\\site-packages\\ipykernel_launcher.py:2: UserWarning: Update your `Dense` call to the Keras 2 API: `Dense(activation=\"relu\", units=6, kernel_initializer=\"uniform\")`\n",
      "  \n"
     ]
    }
   ],
   "source": [
    "# adding the second hidden layer\n",
    "classifier.add(Dense(output_dim=6, init='uniform', activation='relu'))"
   ]
  },
  {
   "cell_type": "code",
   "execution_count": 12,
   "metadata": {},
   "outputs": [
    {
     "name": "stderr",
     "output_type": "stream",
     "text": [
      "C:\\Users\\amira\\Anaconda3\\lib\\site-packages\\ipykernel_launcher.py:2: UserWarning: Update your `Dense` call to the Keras 2 API: `Dense(activation=\"sigmoid\", units=1, kernel_initializer=\"uniform\")`\n",
      "  \n"
     ]
    }
   ],
   "source": [
    "# adding the output layer\n",
    "classifier.add(Dense(output_dim= 1, init= 'uniform', activation='sigmoid'))"
   ]
  },
  {
   "cell_type": "code",
   "execution_count": 13,
   "metadata": {},
   "outputs": [],
   "source": [
    "# compiling the ANN\n",
    "classifier.compile(optimizer = 'adam', loss = 'binary_crossentropy', metrics = ['accuracy'])"
   ]
  },
  {
   "cell_type": "code",
   "execution_count": 14,
   "metadata": {},
   "outputs": [
    {
     "name": "stderr",
     "output_type": "stream",
     "text": [
      "C:\\Users\\amira\\Anaconda3\\lib\\site-packages\\ipykernel_launcher.py:2: UserWarning: The `nb_epoch` argument in `fit` has been renamed `epochs`.\n",
      "  \n"
     ]
    },
    {
     "name": "stdout",
     "output_type": "stream",
     "text": [
      "Epoch 1/100\n",
      "8000/8000 [==============================] - 3s 347us/step - loss: 0.4917 - acc: 0.7954\n",
      "Epoch 2/100\n",
      "8000/8000 [==============================] - 2s 200us/step - loss: 0.4298 - acc: 0.7960\n",
      "Epoch 3/100\n",
      "8000/8000 [==============================] - 1s 163us/step - loss: 0.4251 - acc: 0.7960\n",
      "Epoch 4/100\n",
      "8000/8000 [==============================] - 1s 153us/step - loss: 0.4205 - acc: 0.8051\n",
      "Epoch 5/100\n",
      "8000/8000 [==============================] - 1s 153us/step - loss: 0.4174 - acc: 0.8247\n",
      "Epoch 6/100\n",
      "8000/8000 [==============================] - 1s 151us/step - loss: 0.4155 - acc: 0.8269\n",
      "Epoch 7/100\n",
      "8000/8000 [==============================] - 1s 180us/step - loss: 0.4138 - acc: 0.8300\n",
      "Epoch 8/100\n",
      "8000/8000 [==============================] - 2s 228us/step - loss: 0.4126 - acc: 0.8321\n",
      "Epoch 9/100\n",
      "8000/8000 [==============================] - 2s 192us/step - loss: 0.4111 - acc: 0.8315\n",
      "Epoch 10/100\n",
      "8000/8000 [==============================] - 2s 223us/step - loss: 0.4106 - acc: 0.8316\n",
      "Epoch 11/100\n",
      "8000/8000 [==============================] - 2s 191us/step - loss: 0.4094 - acc: 0.8331\n",
      "Epoch 12/100\n",
      "8000/8000 [==============================] - 2s 190us/step - loss: 0.4088 - acc: 0.8317\n",
      "Epoch 13/100\n",
      "8000/8000 [==============================] - 2s 215us/step - loss: 0.4082 - acc: 0.8340\n",
      "Epoch 14/100\n",
      "8000/8000 [==============================] - 2s 200us/step - loss: 0.4075 - acc: 0.8340\n",
      "Epoch 15/100\n",
      "8000/8000 [==============================] - 1s 185us/step - loss: 0.4070 - acc: 0.8339\n",
      "Epoch 16/100\n",
      "8000/8000 [==============================] - 2s 191us/step - loss: 0.4063 - acc: 0.8331\n",
      "Epoch 17/100\n",
      "8000/8000 [==============================] - 1s 155us/step - loss: 0.4056 - acc: 0.8354\n",
      "Epoch 18/100\n",
      "8000/8000 [==============================] - 1s 153us/step - loss: 0.4056 - acc: 0.8334\n",
      "Epoch 19/100\n",
      "8000/8000 [==============================] - 1s 156us/step - loss: 0.4052 - acc: 0.8346\n",
      "Epoch 20/100\n",
      "8000/8000 [==============================] - 1s 155us/step - loss: 0.4046 - acc: 0.8351\n",
      "Epoch 21/100\n",
      "8000/8000 [==============================] - 1s 146us/step - loss: 0.4038 - acc: 0.8352\n",
      "Epoch 22/100\n",
      "8000/8000 [==============================] - 1s 147us/step - loss: 0.4037 - acc: 0.8339\n",
      "Epoch 23/100\n",
      "8000/8000 [==============================] - 1s 153us/step - loss: 0.4036 - acc: 0.8345\n",
      "Epoch 24/100\n",
      "8000/8000 [==============================] - 1s 149us/step - loss: 0.4030 - acc: 0.8341\n",
      "Epoch 25/100\n",
      "8000/8000 [==============================] - 1s 144us/step - loss: 0.4028 - acc: 0.8357\n",
      "Epoch 26/100\n",
      "8000/8000 [==============================] - 1s 161us/step - loss: 0.4026 - acc: 0.8347\n",
      "Epoch 27/100\n",
      "8000/8000 [==============================] - 1s 186us/step - loss: 0.4020 - acc: 0.8357\n",
      "Epoch 28/100\n",
      "8000/8000 [==============================] - 1s 164us/step - loss: 0.4021 - acc: 0.8345\n",
      "Epoch 29/100\n",
      "8000/8000 [==============================] - 1s 160us/step - loss: 0.4013 - acc: 0.8342\n",
      "Epoch 30/100\n",
      "8000/8000 [==============================] - 2s 202us/step - loss: 0.4011 - acc: 0.8344\n",
      "Epoch 31/100\n",
      "8000/8000 [==============================] - 2s 192us/step - loss: 0.4010 - acc: 0.8349\n",
      "Epoch 32/100\n",
      "8000/8000 [==============================] - 1s 169us/step - loss: 0.4003 - acc: 0.8356\n",
      "Epoch 33/100\n",
      "8000/8000 [==============================] - 1s 157us/step - loss: 0.4003 - acc: 0.8361\n",
      "Epoch 34/100\n",
      "8000/8000 [==============================] - 2s 259us/step - loss: 0.3999 - acc: 0.8356\n",
      "Epoch 35/100\n",
      "8000/8000 [==============================] - 2s 273us/step - loss: 0.3997 - acc: 0.8351\n",
      "Epoch 36/100\n",
      "8000/8000 [==============================] - 2s 201us/step - loss: 0.3996 - acc: 0.8365\n",
      "Epoch 37/100\n",
      "8000/8000 [==============================] - 2s 194us/step - loss: 0.3997 - acc: 0.8364\n",
      "Epoch 38/100\n",
      "8000/8000 [==============================] - 1s 182us/step - loss: 0.3995 - acc: 0.8356\n",
      "Epoch 39/100\n",
      "8000/8000 [==============================] - 1s 170us/step - loss: 0.3991 - acc: 0.8354\n",
      "Epoch 40/100\n",
      "8000/8000 [==============================] - 1s 165us/step - loss: 0.3993 - acc: 0.8364\n",
      "Epoch 41/100\n",
      "8000/8000 [==============================] - 1s 164us/step - loss: 0.3990 - acc: 0.8359\n",
      "Epoch 42/100\n",
      "8000/8000 [==============================] - 1s 163us/step - loss: 0.3988 - acc: 0.8356\n",
      "Epoch 43/100\n",
      "8000/8000 [==============================] - 1s 162us/step - loss: 0.3987 - acc: 0.8364\n",
      "Epoch 44/100\n",
      "8000/8000 [==============================] - 1s 160us/step - loss: 0.3974 - acc: 0.8379\n",
      "Epoch 45/100\n",
      "8000/8000 [==============================] - 1s 159us/step - loss: 0.3975 - acc: 0.8381\n",
      "Epoch 46/100\n",
      "8000/8000 [==============================] - 1s 160us/step - loss: 0.3967 - acc: 0.8367\n",
      "Epoch 47/100\n",
      "8000/8000 [==============================] - 1s 146us/step - loss: 0.3961 - acc: 0.8386\n",
      "Epoch 48/100\n",
      "8000/8000 [==============================] - 1s 149us/step - loss: 0.3940 - acc: 0.8375\n",
      "Epoch 49/100\n",
      "8000/8000 [==============================] - 1s 147us/step - loss: 0.3906 - acc: 0.8385\n",
      "Epoch 50/100\n",
      "8000/8000 [==============================] - 1s 147us/step - loss: 0.3857 - acc: 0.8389\n",
      "Epoch 51/100\n",
      "8000/8000 [==============================] - 1s 151us/step - loss: 0.3805 - acc: 0.8416\n",
      "Epoch 52/100\n",
      "8000/8000 [==============================] - 1s 150us/step - loss: 0.3748 - acc: 0.8429\n",
      "Epoch 53/100\n",
      "8000/8000 [==============================] - 1s 150us/step - loss: 0.3693 - acc: 0.8470\n",
      "Epoch 54/100\n",
      "8000/8000 [==============================] - 1s 151us/step - loss: 0.3635 - acc: 0.8497\n",
      "Epoch 55/100\n",
      "8000/8000 [==============================] - 1s 182us/step - loss: 0.3544 - acc: 0.8550\n",
      "Epoch 56/100\n",
      "8000/8000 [==============================] - 2s 191us/step - loss: 0.3487 - acc: 0.8596\n",
      "Epoch 57/100\n",
      "8000/8000 [==============================] - 2s 196us/step - loss: 0.3449 - acc: 0.8572\n",
      "Epoch 58/100\n",
      "8000/8000 [==============================] - 1s 164us/step - loss: 0.3442 - acc: 0.8617\n",
      "Epoch 59/100\n",
      "8000/8000 [==============================] - 1s 158us/step - loss: 0.3420 - acc: 0.8629\n",
      "Epoch 60/100\n",
      "8000/8000 [==============================] - 1s 151us/step - loss: 0.3423 - acc: 0.8612\n",
      "Epoch 61/100\n",
      "8000/8000 [==============================] - 1s 159us/step - loss: 0.3416 - acc: 0.8602\n",
      "Epoch 62/100\n",
      "8000/8000 [==============================] - 2s 192us/step - loss: 0.3407 - acc: 0.8611\n",
      "Epoch 63/100\n",
      "8000/8000 [==============================] - 1s 179us/step - loss: 0.3414 - acc: 0.8599\n",
      "Epoch 64/100\n",
      "8000/8000 [==============================] - 2s 217us/step - loss: 0.3405 - acc: 0.8609 0s - loss: 0.3\n",
      "Epoch 65/100\n",
      "8000/8000 [==============================] - 1s 177us/step - loss: 0.3407 - acc: 0.8631\n",
      "Epoch 66/100\n",
      "8000/8000 [==============================] - 2s 203us/step - loss: 0.3400 - acc: 0.8606 1s - loss: 0.2993 - acc: 0.86 - ETA: 1s\n",
      "Epoch 67/100\n",
      "8000/8000 [==============================] - 1s 170us/step - loss: 0.3397 - acc: 0.8611\n",
      "Epoch 68/100\n",
      "8000/8000 [==============================] - 1s 168us/step - loss: 0.3400 - acc: 0.8606\n",
      "Epoch 69/100\n",
      "8000/8000 [==============================] - 1s 176us/step - loss: 0.3391 - acc: 0.8614\n",
      "Epoch 70/100\n",
      "8000/8000 [==============================] - 1s 179us/step - loss: 0.3398 - acc: 0.8621\n",
      "Epoch 71/100\n",
      "8000/8000 [==============================] - 1s 175us/step - loss: 0.3397 - acc: 0.8622\n",
      "Epoch 72/100\n",
      "8000/8000 [==============================] - 1s 172us/step - loss: 0.3399 - acc: 0.8619\n",
      "Epoch 73/100\n",
      "8000/8000 [==============================] - 1s 166us/step - loss: 0.3393 - acc: 0.8610\n",
      "Epoch 74/100\n",
      "8000/8000 [==============================] - 1s 166us/step - loss: 0.3387 - acc: 0.8610\n",
      "Epoch 75/100\n",
      "8000/8000 [==============================] - 1s 166us/step - loss: 0.3393 - acc: 0.8611\n",
      "Epoch 76/100\n",
      "8000/8000 [==============================] - 1s 166us/step - loss: 0.3396 - acc: 0.8625\n",
      "Epoch 77/100\n",
      "8000/8000 [==============================] - 1s 167us/step - loss: 0.3390 - acc: 0.8614\n",
      "Epoch 78/100\n",
      "8000/8000 [==============================] - 1s 155us/step - loss: 0.3388 - acc: 0.8601\n",
      "Epoch 79/100\n",
      "8000/8000 [==============================] - 1s 152us/step - loss: 0.3388 - acc: 0.8640\n",
      "Epoch 80/100\n",
      "8000/8000 [==============================] - 1s 157us/step - loss: 0.3390 - acc: 0.8622\n",
      "Epoch 81/100\n"
     ]
    },
    {
     "name": "stdout",
     "output_type": "stream",
     "text": [
      "8000/8000 [==============================] - 1s 139us/step - loss: 0.3384 - acc: 0.8614\n",
      "Epoch 82/100\n",
      "8000/8000 [==============================] - 1s 136us/step - loss: 0.3393 - acc: 0.8621\n",
      "Epoch 83/100\n",
      "8000/8000 [==============================] - 1s 135us/step - loss: 0.3386 - acc: 0.8624\n",
      "Epoch 84/100\n",
      "8000/8000 [==============================] - 1s 136us/step - loss: 0.3386 - acc: 0.8614\n",
      "Epoch 85/100\n",
      "8000/8000 [==============================] - 1s 138us/step - loss: 0.3388 - acc: 0.8627\n",
      "Epoch 86/100\n",
      "8000/8000 [==============================] - 1s 152us/step - loss: 0.3387 - acc: 0.8600\n",
      "Epoch 87/100\n",
      "8000/8000 [==============================] - 1s 145us/step - loss: 0.3388 - acc: 0.8606\n",
      "Epoch 88/100\n",
      "8000/8000 [==============================] - 1s 149us/step - loss: 0.3382 - acc: 0.8629\n",
      "Epoch 89/100\n",
      "8000/8000 [==============================] - 1s 145us/step - loss: 0.3383 - acc: 0.8624\n",
      "Epoch 90/100\n",
      "8000/8000 [==============================] - 1s 136us/step - loss: 0.3384 - acc: 0.8621\n",
      "Epoch 91/100\n",
      "8000/8000 [==============================] - 1s 135us/step - loss: 0.3390 - acc: 0.8624\n",
      "Epoch 92/100\n",
      "8000/8000 [==============================] - 1s 137us/step - loss: 0.3383 - acc: 0.8630\n",
      "Epoch 93/100\n",
      "8000/8000 [==============================] - 1s 137us/step - loss: 0.3380 - acc: 0.8630\n",
      "Epoch 94/100\n",
      "8000/8000 [==============================] - 1s 137us/step - loss: 0.3374 - acc: 0.8630\n",
      "Epoch 95/100\n",
      "8000/8000 [==============================] - 1s 138us/step - loss: 0.3376 - acc: 0.8624\n",
      "Epoch 96/100\n",
      "8000/8000 [==============================] - 1s 138us/step - loss: 0.3384 - acc: 0.8622\n",
      "Epoch 97/100\n",
      "8000/8000 [==============================] - 1s 148us/step - loss: 0.3382 - acc: 0.8625\n",
      "Epoch 98/100\n",
      "8000/8000 [==============================] - 1s 140us/step - loss: 0.3379 - acc: 0.8626\n",
      "Epoch 99/100\n",
      "8000/8000 [==============================] - 1s 137us/step - loss: 0.3375 - acc: 0.8622\n",
      "Epoch 100/100\n",
      "8000/8000 [==============================] - 1s 141us/step - loss: 0.3382 - acc: 0.8617\n"
     ]
    },
    {
     "data": {
      "text/plain": [
       "<keras.callbacks.History at 0x1a22ed5ae10>"
      ]
     },
     "execution_count": 14,
     "metadata": {},
     "output_type": "execute_result"
    }
   ],
   "source": [
    "# fitting the ANN to the training set\n",
    "classifier.fit(X_train, y_train, batch_size= 10, nb_epoch= 100)"
   ]
  },
  {
   "cell_type": "markdown",
   "metadata": {},
   "source": [
    "#### Part 4: Making the Prediction and Evaluating the Model"
   ]
  },
  {
   "cell_type": "code",
   "execution_count": 15,
   "metadata": {},
   "outputs": [
    {
     "data": {
      "text/plain": [
       "array([[False],\n",
       "       [False],\n",
       "       [False],\n",
       "       ...,\n",
       "       [False],\n",
       "       [False],\n",
       "       [False]])"
      ]
     },
     "execution_count": 15,
     "metadata": {},
     "output_type": "execute_result"
    }
   ],
   "source": [
    "# predicting the test set result\n",
    "y_pred = classifier.predict(X_test)\n",
    "y_pred = (y_pred>0.5)\n",
    "y_pred"
   ]
  },
  {
   "cell_type": "code",
   "execution_count": 17,
   "metadata": {},
   "outputs": [
    {
     "data": {
      "text/plain": [
       "array([[1529,   66],\n",
       "       [ 203,  202]], dtype=int64)"
      ]
     },
     "execution_count": 17,
     "metadata": {},
     "output_type": "execute_result"
    }
   ],
   "source": [
    "# Confusion Metric\n",
    "from sklearn.metrics import confusion_matrix\n",
    "confusion_metric = confusion_matrix(y_test, y_pred)\n",
    "confusion_metric"
   ]
  },
  {
   "cell_type": "code",
   "execution_count": 18,
   "metadata": {},
   "outputs": [
    {
     "data": {
      "text/plain": [
       "0.8655"
      ]
     },
     "execution_count": 18,
     "metadata": {},
     "output_type": "execute_result"
    }
   ],
   "source": [
    "# accuracy score\n",
    "from sklearn.metrics import accuracy_score\n",
    "accuracy_score = accuracy_score(y_test, y_pred)\n",
    "accuracy_score"
   ]
  }
 ],
 "metadata": {
  "kernelspec": {
   "display_name": "Python 3",
   "language": "python",
   "name": "python3"
  },
  "language_info": {
   "codemirror_mode": {
    "name": "ipython",
    "version": 3
   },
   "file_extension": ".py",
   "mimetype": "text/x-python",
   "name": "python",
   "nbconvert_exporter": "python",
   "pygments_lexer": "ipython3",
   "version": "3.6.1"
  }
 },
 "nbformat": 4,
 "nbformat_minor": 2
}
