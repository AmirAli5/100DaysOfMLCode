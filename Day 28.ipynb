{
 "cells": [
  {
   "cell_type": "markdown",
   "metadata": {},
   "source": [
    "## Adding some more hidden layer to improve and Tuning the ANN in Keras and Tensorflow"
   ]
  },
  {
   "cell_type": "markdown",
   "metadata": {},
   "source": [
    "#### Part 1: Data Preprocessing"
   ]
  },
  {
   "cell_type": "code",
   "execution_count": 1,
   "metadata": {},
   "outputs": [],
   "source": [
    "# import the Libraries\n",
    "import numpy as np                   # used for multidimensional array\n",
    "import pandas as pd                  # used for import the dataset\n",
    "import matplotlib.pyplot as plt      # used for ploting the graph"
   ]
  },
  {
   "cell_type": "code",
   "execution_count": 2,
   "metadata": {},
   "outputs": [],
   "source": [
    "# import the datset\n",
    "dataset = pd.read_csv('Churn_Modelling.csv')\n",
    "X = dataset.iloc[: , 3:13].values             # independent variable\n",
    "y = dataset.iloc[: , 13].values               # dependent variable"
   ]
  },
  {
   "cell_type": "code",
   "execution_count": 3,
   "metadata": {},
   "outputs": [],
   "source": [
    "# Encoding the categorical data\n",
    "from sklearn.preprocessing import LabelEncoder , OneHotEncoder\n",
    "labelencoder_X1 = LabelEncoder()\n",
    "X[:, 1] = labelencoder_X1.fit_transform(X[ : , 1])\n",
    "labelencoder_X2 = LabelEncoder()\n",
    "X[:, 2] = labelencoder_X2.fit_transform(X[: , 2])\n",
    "onehotencoder = OneHotEncoder(categorical_features = [1])\n",
    "X = onehotencoder.fit_transform(X).toarray()\n",
    "X = X[:, 1:]"
   ]
  },
  {
   "cell_type": "code",
   "execution_count": 4,
   "metadata": {},
   "outputs": [],
   "source": [
    "# split the dataset into test set and train set\n",
    "from sklearn.model_selection import train_test_split\n",
    "X_train, X_test, y_train, y_test =train_test_split(X,y, test_size= 0.2, random_state=0)"
   ]
  },
  {
   "cell_type": "code",
   "execution_count": 5,
   "metadata": {},
   "outputs": [],
   "source": [
    "# feature scaling\n",
    "from sklearn.preprocessing import StandardScaler\n",
    "sc = StandardScaler()\n",
    "X_train = sc.fit_transform(X_train)\n",
    "X_test = sc.transform(X_test)"
   ]
  },
  {
   "cell_type": "markdown",
   "metadata": {},
   "source": [
    "#### Part 2: Let's make the ANN"
   ]
  },
  {
   "cell_type": "code",
   "execution_count": 6,
   "metadata": {},
   "outputs": [
    {
     "name": "stderr",
     "output_type": "stream",
     "text": [
      "C:\\Users\\amira\\Anaconda3\\lib\\site-packages\\h5py\\__init__.py:36: FutureWarning: Conversion of the second argument of issubdtype from `float` to `np.floating` is deprecated. In future, it will be treated as `np.float64 == np.dtype(float).type`.\n",
      "  from ._conv import register_converters as _register_converters\n",
      "Using TensorFlow backend.\n"
     ]
    }
   ],
   "source": [
    "# importing the Keras Libraries and package\n",
    "import keras"
   ]
  },
  {
   "cell_type": "code",
   "execution_count": 7,
   "metadata": {},
   "outputs": [],
   "source": [
    "from keras.models import Sequential   # used for init our ANN model"
   ]
  },
  {
   "cell_type": "code",
   "execution_count": 8,
   "metadata": {},
   "outputs": [],
   "source": [
    "from keras.layers import Dense       # used for different layer structure"
   ]
  },
  {
   "cell_type": "code",
   "execution_count": 9,
   "metadata": {},
   "outputs": [],
   "source": [
    "# initializing the ANN model\n",
    "classifier = Sequential()"
   ]
  },
  {
   "cell_type": "code",
   "execution_count": 10,
   "metadata": {},
   "outputs": [
    {
     "name": "stderr",
     "output_type": "stream",
     "text": [
      "C:\\Users\\amira\\Anaconda3\\lib\\site-packages\\ipykernel_launcher.py:2: UserWarning: Update your `Dense` call to the Keras 2 API: `Dense(activation=\"relu\", input_dim=11, units=6, kernel_initializer=\"uniform\")`\n",
      "  \n"
     ]
    }
   ],
   "source": [
    "# adding the input layer and first hidden layer\n",
    "classifier.add( Dense ( output_dim=6, init= 'uniform', activation = 'relu' , input_dim = 11) )"
   ]
  },
  {
   "cell_type": "code",
   "execution_count": 11,
   "metadata": {},
   "outputs": [
    {
     "name": "stderr",
     "output_type": "stream",
     "text": [
      "C:\\Users\\amira\\Anaconda3\\lib\\site-packages\\ipykernel_launcher.py:2: UserWarning: Update your `Dense` call to the Keras 2 API: `Dense(activation=\"relu\", units=6, kernel_initializer=\"uniform\")`\n",
      "  \n"
     ]
    }
   ],
   "source": [
    "# adding the second hidden layer\n",
    "classifier.add(Dense(output_dim=6, init='uniform', activation='relu'))"
   ]
  },
  {
   "cell_type": "code",
   "execution_count": 12,
   "metadata": {},
   "outputs": [
    {
     "name": "stderr",
     "output_type": "stream",
     "text": [
      "C:\\Users\\amira\\Anaconda3\\lib\\site-packages\\ipykernel_launcher.py:2: UserWarning: Update your `Dense` call to the Keras 2 API: `Dense(activation=\"sigmoid\", units=1, kernel_initializer=\"uniform\")`\n",
      "  \n"
     ]
    }
   ],
   "source": [
    "# adding the output layer\n",
    "classifier.add(Dense(output_dim= 1, init= 'uniform', activation='sigmoid'))"
   ]
  },
  {
   "cell_type": "code",
   "execution_count": 13,
   "metadata": {},
   "outputs": [],
   "source": [
    "# compiling the ANN\n",
    "classifier.compile(optimizer = 'adam', loss = 'binary_crossentropy', metrics = ['accuracy'])"
   ]
  },
  {
   "cell_type": "code",
   "execution_count": 14,
   "metadata": {},
   "outputs": [
    {
     "name": "stderr",
     "output_type": "stream",
     "text": [
      "C:\\Users\\amira\\Anaconda3\\lib\\site-packages\\ipykernel_launcher.py:2: UserWarning: The `nb_epoch` argument in `fit` has been renamed `epochs`.\n",
      "  \n"
     ]
    },
    {
     "name": "stdout",
     "output_type": "stream",
     "text": [
      "Epoch 1/100\n",
      "8000/8000 [==============================] - 2s 276us/step - loss: 0.4825 - acc: 0.7955\n",
      "Epoch 2/100\n",
      "8000/8000 [==============================] - 2s 250us/step - loss: 0.4251 - acc: 0.7960\n",
      "Epoch 3/100\n",
      "8000/8000 [==============================] - 1s 165us/step - loss: 0.4197 - acc: 0.8085\n",
      "Epoch 4/100\n",
      "8000/8000 [==============================] - 1s 140us/step - loss: 0.4162 - acc: 0.8255\n",
      "Epoch 5/100\n",
      "8000/8000 [==============================] - 1s 133us/step - loss: 0.4147 - acc: 0.8309\n",
      "Epoch 6/100\n",
      "8000/8000 [==============================] - 1s 133us/step - loss: 0.4135 - acc: 0.8291\n",
      "Epoch 7/100\n",
      "8000/8000 [==============================] - 1s 143us/step - loss: 0.4122 - acc: 0.8319\n",
      "Epoch 8/100\n",
      "8000/8000 [==============================] - 1s 148us/step - loss: 0.4111 - acc: 0.8332\n",
      "Epoch 9/100\n",
      "8000/8000 [==============================] - 1s 169us/step - loss: 0.4102 - acc: 0.8332\n",
      "Epoch 10/100\n",
      "8000/8000 [==============================] - 1s 150us/step - loss: 0.4087 - acc: 0.8327\n",
      "Epoch 11/100\n",
      "8000/8000 [==============================] - 1s 160us/step - loss: 0.4077 - acc: 0.8345\n",
      "Epoch 12/100\n",
      "8000/8000 [==============================] - 1s 137us/step - loss: 0.4078 - acc: 0.8351\n",
      "Epoch 13/100\n",
      "8000/8000 [==============================] - 1s 140us/step - loss: 0.4067 - acc: 0.8350\n",
      "Epoch 14/100\n",
      "8000/8000 [==============================] - 1s 146us/step - loss: 0.4062 - acc: 0.8347\n",
      "Epoch 15/100\n",
      "8000/8000 [==============================] - 1s 139us/step - loss: 0.4061 - acc: 0.8341\n",
      "Epoch 16/100\n",
      "8000/8000 [==============================] - 1s 144us/step - loss: 0.4054 - acc: 0.8351\n",
      "Epoch 17/100\n",
      "8000/8000 [==============================] - 1s 145us/step - loss: 0.4050 - acc: 0.8347\n",
      "Epoch 18/100\n",
      "8000/8000 [==============================] - 1s 150us/step - loss: 0.4052 - acc: 0.8342\n",
      "Epoch 19/100\n",
      "8000/8000 [==============================] - 2s 218us/step - loss: 0.4048 - acc: 0.8360\n",
      "Epoch 20/100\n",
      "8000/8000 [==============================] - 1s 185us/step - loss: 0.4046 - acc: 0.8341\n",
      "Epoch 21/100\n",
      "8000/8000 [==============================] - 2s 192us/step - loss: 0.4040 - acc: 0.8357\n",
      "Epoch 22/100\n",
      "8000/8000 [==============================] - 2s 200us/step - loss: 0.4037 - acc: 0.8339\n",
      "Epoch 23/100\n",
      "8000/8000 [==============================] - 1s 139us/step - loss: 0.4038 - acc: 0.8356\n",
      "Epoch 24/100\n",
      "8000/8000 [==============================] - 1s 137us/step - loss: 0.4032 - acc: 0.8356\n",
      "Epoch 25/100\n",
      "8000/8000 [==============================] - 1s 141us/step - loss: 0.4035 - acc: 0.8345\n",
      "Epoch 26/100\n",
      "8000/8000 [==============================] - 1s 150us/step - loss: 0.4031 - acc: 0.8346\n",
      "Epoch 27/100\n",
      "8000/8000 [==============================] - 1s 151us/step - loss: 0.4032 - acc: 0.8332\n",
      "Epoch 28/100\n",
      "8000/8000 [==============================] - 1s 151us/step - loss: 0.4028 - acc: 0.8347\n",
      "Epoch 29/100\n",
      "8000/8000 [==============================] - 1s 158us/step - loss: 0.4031 - acc: 0.8341\n",
      "Epoch 30/100\n",
      "8000/8000 [==============================] - 1s 151us/step - loss: 0.4028 - acc: 0.8360\n",
      "Epoch 31/100\n",
      "8000/8000 [==============================] - 1s 139us/step - loss: 0.4027 - acc: 0.8345\n",
      "Epoch 32/100\n",
      "8000/8000 [==============================] - 1s 157us/step - loss: 0.4026 - acc: 0.8351\n",
      "Epoch 33/100\n",
      "8000/8000 [==============================] - 1s 132us/step - loss: 0.4025 - acc: 0.8344\n",
      "Epoch 34/100\n",
      "8000/8000 [==============================] - 1s 136us/step - loss: 0.4022 - acc: 0.8332\n",
      "Epoch 35/100\n",
      "8000/8000 [==============================] - 1s 128us/step - loss: 0.4020 - acc: 0.8355\n",
      "Epoch 36/100\n",
      "8000/8000 [==============================] - 1s 128us/step - loss: 0.4020 - acc: 0.8356\n",
      "Epoch 37/100\n",
      "8000/8000 [==============================] - 1s 144us/step - loss: 0.4020 - acc: 0.8351\n",
      "Epoch 38/100\n",
      "8000/8000 [==============================] - 1s 130us/step - loss: 0.4031 - acc: 0.8342\n",
      "Epoch 39/100\n",
      "8000/8000 [==============================] - 1s 129us/step - loss: 0.4019 - acc: 0.8351\n",
      "Epoch 40/100\n",
      "8000/8000 [==============================] - 1s 142us/step - loss: 0.4022 - acc: 0.8349\n",
      "Epoch 41/100\n",
      "8000/8000 [==============================] - 1s 151us/step - loss: 0.4023 - acc: 0.8335\n",
      "Epoch 42/100\n",
      "8000/8000 [==============================] - 1s 147us/step - loss: 0.4019 - acc: 0.8357\n",
      "Epoch 43/100\n",
      "8000/8000 [==============================] - 1s 151us/step - loss: 0.4021 - acc: 0.8351\n",
      "Epoch 44/100\n",
      "8000/8000 [==============================] - 1s 145us/step - loss: 0.4018 - acc: 0.8345\n",
      "Epoch 45/100\n",
      "8000/8000 [==============================] - 1s 146us/step - loss: 0.4018 - acc: 0.8354\n",
      "Epoch 46/100\n",
      "8000/8000 [==============================] - 1s 128us/step - loss: 0.4018 - acc: 0.8346\n",
      "Epoch 47/100\n",
      "8000/8000 [==============================] - 1s 133us/step - loss: 0.4019 - acc: 0.8350\n",
      "Epoch 48/100\n",
      "8000/8000 [==============================] - 1s 139us/step - loss: 0.4022 - acc: 0.8330\n",
      "Epoch 49/100\n",
      "8000/8000 [==============================] - 1s 131us/step - loss: 0.4016 - acc: 0.8337\n",
      "Epoch 50/100\n",
      "8000/8000 [==============================] - 1s 166us/step - loss: 0.4019 - acc: 0.8357\n",
      "Epoch 51/100\n",
      "8000/8000 [==============================] - 1s 146us/step - loss: 0.4019 - acc: 0.8351\n",
      "Epoch 52/100\n",
      "8000/8000 [==============================] - 1s 149us/step - loss: 0.4020 - acc: 0.8345\n",
      "Epoch 53/100\n",
      "8000/8000 [==============================] - 1s 125us/step - loss: 0.4012 - acc: 0.8344\n",
      "Epoch 54/100\n",
      "8000/8000 [==============================] - 1s 124us/step - loss: 0.4020 - acc: 0.8336\n",
      "Epoch 55/100\n",
      "8000/8000 [==============================] - 1s 125us/step - loss: 0.4017 - acc: 0.8359\n",
      "Epoch 56/100\n",
      "8000/8000 [==============================] - 1s 163us/step - loss: 0.4017 - acc: 0.8356\n",
      "Epoch 57/100\n",
      "8000/8000 [==============================] - 1s 134us/step - loss: 0.4020 - acc: 0.8332\n",
      "Epoch 58/100\n",
      "8000/8000 [==============================] - 1s 133us/step - loss: 0.4015 - acc: 0.8359\n",
      "Epoch 59/100\n",
      "8000/8000 [==============================] - 1s 134us/step - loss: 0.4013 - acc: 0.8351\n",
      "Epoch 60/100\n",
      "8000/8000 [==============================] - 1s 164us/step - loss: 0.4015 - acc: 0.8337\n",
      "Epoch 61/100\n",
      "8000/8000 [==============================] - 1s 163us/step - loss: 0.4018 - acc: 0.8349\n",
      "Epoch 62/100\n",
      "8000/8000 [==============================] - 1s 140us/step - loss: 0.4017 - acc: 0.8346\n",
      "Epoch 63/100\n",
      "8000/8000 [==============================] - 1s 142us/step - loss: 0.4012 - acc: 0.8344\n",
      "Epoch 64/100\n",
      "8000/8000 [==============================] - 1s 173us/step - loss: 0.4012 - acc: 0.8351\n",
      "Epoch 65/100\n",
      "8000/8000 [==============================] - 1s 187us/step - loss: 0.4015 - acc: 0.8342\n",
      "Epoch 66/100\n",
      "8000/8000 [==============================] - 2s 190us/step - loss: 0.4012 - acc: 0.8350\n",
      "Epoch 67/100\n",
      "8000/8000 [==============================] - 2s 204us/step - loss: 0.4013 - acc: 0.8352\n",
      "Epoch 68/100\n",
      "8000/8000 [==============================] - 1s 165us/step - loss: 0.4014 - acc: 0.8354\n",
      "Epoch 69/100\n",
      "8000/8000 [==============================] - 1s 161us/step - loss: 0.4012 - acc: 0.8334\n",
      "Epoch 70/100\n",
      "8000/8000 [==============================] - 1s 156us/step - loss: 0.4014 - acc: 0.8356\n",
      "Epoch 71/100\n",
      "8000/8000 [==============================] - 1s 168us/step - loss: 0.4015 - acc: 0.8345\n",
      "Epoch 72/100\n",
      "8000/8000 [==============================] - 1s 176us/step - loss: 0.4015 - acc: 0.8367\n",
      "Epoch 73/100\n",
      "8000/8000 [==============================] - 2s 196us/step - loss: 0.4013 - acc: 0.8356 1s - lo\n",
      "Epoch 74/100\n",
      "8000/8000 [==============================] - 2s 214us/step - loss: 0.4014 - acc: 0.8349\n",
      "Epoch 75/100\n",
      "8000/8000 [==============================] - 2s 206us/step - loss: 0.4012 - acc: 0.8347\n",
      "Epoch 76/100\n",
      "8000/8000 [==============================] - 2s 201us/step - loss: 0.4011 - acc: 0.8341\n",
      "Epoch 77/100\n",
      "8000/8000 [==============================] - 2s 224us/step - loss: 0.4006 - acc: 0.8335\n",
      "Epoch 78/100\n",
      "8000/8000 [==============================] - 1s 168us/step - loss: 0.4013 - acc: 0.8326\n",
      "Epoch 79/100\n",
      "8000/8000 [==============================] - 1s 164us/step - loss: 0.4012 - acc: 0.8351\n",
      "Epoch 80/100\n",
      "8000/8000 [==============================] - 1s 179us/step - loss: 0.4013 - acc: 0.8339\n",
      "Epoch 81/100\n",
      "8000/8000 [==============================] - 2s 195us/step - loss: 0.4013 - acc: 0.8345\n",
      "Epoch 82/100\n"
     ]
    },
    {
     "name": "stdout",
     "output_type": "stream",
     "text": [
      "8000/8000 [==============================] - 1s 162us/step - loss: 0.4012 - acc: 0.8359\n",
      "Epoch 83/100\n",
      "8000/8000 [==============================] - 1s 175us/step - loss: 0.4009 - acc: 0.8345\n",
      "Epoch 84/100\n",
      "8000/8000 [==============================] - 1s 147us/step - loss: 0.4011 - acc: 0.8344\n",
      "Epoch 85/100\n",
      "8000/8000 [==============================] - 1s 153us/step - loss: 0.4013 - acc: 0.8352\n",
      "Epoch 86/100\n",
      "8000/8000 [==============================] - 1s 146us/step - loss: 0.4009 - acc: 0.8344\n",
      "Epoch 87/100\n",
      "8000/8000 [==============================] - 1s 135us/step - loss: 0.4013 - acc: 0.8335\n",
      "Epoch 88/100\n",
      "8000/8000 [==============================] - 1s 165us/step - loss: 0.4006 - acc: 0.8355\n",
      "Epoch 89/100\n",
      "8000/8000 [==============================] - 1s 135us/step - loss: 0.4013 - acc: 0.8367\n",
      "Epoch 90/100\n",
      "8000/8000 [==============================] - 1s 132us/step - loss: 0.4010 - acc: 0.8341\n",
      "Epoch 91/100\n",
      "8000/8000 [==============================] - 1s 153us/step - loss: 0.4012 - acc: 0.8370\n",
      "Epoch 92/100\n",
      "8000/8000 [==============================] - 1s 128us/step - loss: 0.4011 - acc: 0.8345 1s - loss: 0\n",
      "Epoch 93/100\n",
      "8000/8000 [==============================] - 1s 137us/step - loss: 0.4010 - acc: 0.8342\n",
      "Epoch 94/100\n",
      "8000/8000 [==============================] - 1s 131us/step - loss: 0.4011 - acc: 0.8356\n",
      "Epoch 95/100\n",
      "8000/8000 [==============================] - 1s 133us/step - loss: 0.4009 - acc: 0.8337\n",
      "Epoch 96/100\n",
      "8000/8000 [==============================] - 1s 136us/step - loss: 0.4010 - acc: 0.8351\n",
      "Epoch 97/100\n",
      "8000/8000 [==============================] - 1s 140us/step - loss: 0.4012 - acc: 0.8332\n",
      "Epoch 98/100\n",
      "8000/8000 [==============================] - 1s 134us/step - loss: 0.4012 - acc: 0.8351\n",
      "Epoch 99/100\n",
      "8000/8000 [==============================] - 1s 126us/step - loss: 0.4009 - acc: 0.8344\n",
      "Epoch 100/100\n",
      "8000/8000 [==============================] - 1s 127us/step - loss: 0.4012 - acc: 0.8360\n"
     ]
    },
    {
     "data": {
      "text/plain": [
       "<keras.callbacks.History at 0x1ba1e0dbda0>"
      ]
     },
     "execution_count": 14,
     "metadata": {},
     "output_type": "execute_result"
    }
   ],
   "source": [
    "# fitting the ANN to the training set\n",
    "classifier.fit(X_train, y_train, batch_size= 10, nb_epoch= 100)"
   ]
  },
  {
   "cell_type": "markdown",
   "metadata": {},
   "source": [
    "#### Part 3: Making the Prediction and Accuracy Result"
   ]
  },
  {
   "cell_type": "code",
   "execution_count": 15,
   "metadata": {},
   "outputs": [
    {
     "data": {
      "text/plain": [
       "array([[False],\n",
       "       [False],\n",
       "       [False],\n",
       "       ...,\n",
       "       [False],\n",
       "       [False],\n",
       "       [False]])"
      ]
     },
     "execution_count": 15,
     "metadata": {},
     "output_type": "execute_result"
    }
   ],
   "source": [
    "# predicting the test set result\n",
    "y_pred = classifier.predict(X_test)\n",
    "y_pred = (y_pred>0.5)\n",
    "y_pred"
   ]
  },
  {
   "cell_type": "code",
   "execution_count": 16,
   "metadata": {},
   "outputs": [
    {
     "data": {
      "text/plain": [
       "array([[1541,   54],\n",
       "       [ 265,  140]], dtype=int64)"
      ]
     },
     "execution_count": 16,
     "metadata": {},
     "output_type": "execute_result"
    }
   ],
   "source": [
    "# Confusion Metric\n",
    "from sklearn.metrics import confusion_matrix\n",
    "confusion_metric = confusion_matrix(y_test, y_pred)\n",
    "confusion_metric"
   ]
  },
  {
   "cell_type": "code",
   "execution_count": 17,
   "metadata": {},
   "outputs": [
    {
     "data": {
      "text/plain": [
       "0.8405"
      ]
     },
     "execution_count": 17,
     "metadata": {},
     "output_type": "execute_result"
    }
   ],
   "source": [
    "# accuracy score\n",
    "from sklearn.metrics import accuracy_score\n",
    "accuracy_score = accuracy_score(y_test, y_pred)\n",
    "accuracy_score"
   ]
  },
  {
   "cell_type": "markdown",
   "metadata": {},
   "source": [
    "#### Part 4 - Evaluating  the Artificial Neural Network"
   ]
  },
  {
   "cell_type": "code",
   "execution_count": null,
   "metadata": {},
   "outputs": [],
   "source": [
    "# Evaluating the ANN\n",
    "from keras.wrappers.scikit_learn import KerasClassifier\n",
    "from sklearn.model_selection import cross_val_score\n",
    "from keras.models import Sequential\n",
    "from keras.layers import Dense\n",
    "def build_classifier():\n",
    "    classifier = Sequential()\n",
    "    classifier.add(Dense(units = 6, kernel_initializer = 'uniform', activation = 'relu', input_dim = 11))\n",
    "    classifier.add(Dense(units = 6, kernel_initializer = 'uniform', activation = 'relu'))\n",
    "    classifier.add(Dense(units = 1, kernel_initializer = 'uniform', activation = 'sigmoid'))\n",
    "    classifier.compile(optimizer = 'adam', loss = 'binary_crossentropy', metrics = ['accuracy'])\n",
    "    return classifier\n",
    "classifier = KerasClassifier(build_fn = build_classifier, batch_size = 10, epochs = 100)\n",
    "accuracies = cross_val_score(estimator = classifier, X = X_train, y = y_train, cv = 10, n_jobs = -1)\n",
    "mean = accuracies.mean()\n",
    "variance = accuracies.std()"
   ]
  },
  {
   "cell_type": "markdown",
   "metadata": {},
   "source": [
    "#### Part 5: Improving and Tuning of ANN"
   ]
  },
  {
   "cell_type": "code",
   "execution_count": null,
   "metadata": {},
   "outputs": [],
   "source": [
    "# Dropout Regularization to reduce overfitting if needed\n",
    "from keras.wrappers.scikit_learn import KerasClassifier\n",
    "from sklearn.model_selection import GridSearchCV\n",
    "from keras.models import Sequential\n",
    "from keras.layers import Dense\n",
    "def build_classifier(optimizer):\n",
    "    classifier = Sequential()\n",
    "    classifier.add(Dense(units = 6, kernel_initializer = 'uniform', activation = 'relu', input_dim = 11))\n",
    "    classifier.add(Dense(units = 6, kernel_initializer = 'uniform', activation = 'relu'))\n",
    "    classifier.add(Dense(units = 1, kernel_initializer = 'uniform', activation = 'sigmoid'))\n",
    "    classifier.compile(optimizer = optimizer, loss = 'binary_crossentropy', metrics = ['accuracy'])\n",
    "    return classifier\n",
    "classifier = KerasClassifier(build_fn = build_classifier)\n",
    "parameters = {'batch_size': [25, 32],\n",
    "              'epochs': [100, 500],\n",
    "              'optimizer': ['adam', 'rmsprop']}\n",
    "grid_search = GridSearchCV(estimator = classifier,\n",
    "                           param_grid = parameters,\n",
    "                           scoring = 'accuracy',\n",
    "                           cv = 10)\n",
    "grid_search = grid_search.fit(X_train, y_train)\n",
    "best_parameters = grid_search.best_params_\n",
    "best_accuracy = grid_search.best_score_"
   ]
  }
 ],
 "metadata": {
  "kernelspec": {
   "display_name": "Python 3",
   "language": "python",
   "name": "python3"
  },
  "language_info": {
   "codemirror_mode": {
    "name": "ipython",
    "version": 3
   },
   "file_extension": ".py",
   "mimetype": "text/x-python",
   "name": "python",
   "nbconvert_exporter": "python",
   "pygments_lexer": "ipython3",
   "version": "3.6.1"
  }
 },
 "nbformat": 4,
 "nbformat_minor": 2
}
